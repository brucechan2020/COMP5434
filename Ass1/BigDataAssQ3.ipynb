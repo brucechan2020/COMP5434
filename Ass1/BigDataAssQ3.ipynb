{
 "cells": [
  {
   "cell_type": "code",
   "execution_count": 1,
   "metadata": {},
   "outputs": [
    {
     "name": "stdout",
     "output_type": "stream",
     "text": [
      "Characteristic matrix:\n",
      "             S1  S2  S3  S4 \n",
      "large        0   0   0   1\n",
      "data         1   1   1   1\n",
      "mining       0   1   0   0\n",
      "unstructured 0   0   0   1\n",
      "insights     0   0   1   0\n",
      "of           0   0   1   0\n",
      "science      0   0   1   0\n",
      "technology   1   1   0   0\n",
      "sources      0   0   0   1\n",
      "computing    1   0   0   0\n",
      "useful       1   0   0   0\n",
      "structured   0   0   0   1\n",
      "extract      0   0   1   0\n",
      "study        0   0   1   0\n",
      "amount       0   0   0   1\n",
      "big          1   0   0   1\n",
      "Similarity between S1 and S2: 0.33\n",
      "Similarity between S1 and S3: 0.10\n",
      "Similarity between S1 and S4: 0.20\n",
      "Similarity between S2 and S3: 0.12\n",
      "Similarity between S2 and S4: 0.11\n",
      "Similarity between S3 and S4: 0.08\n"
     ]
    }
   ],
   "source": [
    "# Define the sets\n",
    "S1 = {\"big\", \"data\", \"computing\", \"technology\", \"useful\"}\n",
    "S2 = {\"data\", \"mining\", \"technology\"}\n",
    "S3 = {\"data\", \"science\", \"study\", \"of\", \"extract\", \"insights\"}\n",
    "S4 = {\"big\", \"data\", \"large\", \"amount\", \"unstructured\", \"structured\", \"sources\"}\n",
    "\n",
    "# Create a list of all sets\n",
    "all_sets = [S1, S2, S3, S4]\n",
    "\n",
    "# Create a list of all unique elements across all sets\n",
    "unique_elements = list(set().union(*all_sets))\n",
    "# Create the characteristic matrix\n",
    "matrix = []\n",
    "for element in unique_elements:\n",
    "    row = [int(element in s) for s in all_sets]\n",
    "    matrix.append(row)\n",
    "\n",
    "# Print the characteristic matrix with headers and padding spaces\n",
    "print(\"Characteristic matrix:\")\n",
    "print(f\"{'': <12} {'S1': <3} {'S2': <3} {'S3': <3} {'S4': <3}\")\n",
    "for i, element in enumerate(unique_elements):\n",
    "    row_str = \"   \".join(str(x) for x in matrix[i])\n",
    "    print(f\"{element: <12} {row_str}\")\n",
    "\n",
    "# Calculate pairwise similarities using the Jaccard similarity coefficient\n",
    "for i in range(len(all_sets)):\n",
    "    for j in range(i+1, len(all_sets)):\n",
    "        set1 = all_sets[i]\n",
    "        set2 = all_sets[j]\n",
    "        similarity = len(set1.intersection(set2)) / len(set1.union(set2))\n",
    "        print(f\"Similarity between S{i+1} and S{j+1}: {similarity:.2f}\")"
   ]
  }
 ],
 "metadata": {
  "kernelspec": {
   "display_name": "base",
   "language": "python",
   "name": "python3"
  },
  "language_info": {
   "codemirror_mode": {
    "name": "ipython",
    "version": 3
   },
   "file_extension": ".py",
   "mimetype": "text/x-python",
   "name": "python",
   "nbconvert_exporter": "python",
   "pygments_lexer": "ipython3",
   "version": "3.10.9"
  },
  "orig_nbformat": 4
 },
 "nbformat": 4,
 "nbformat_minor": 2
}
